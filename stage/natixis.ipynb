{
 "cells": [
  {
   "cell_type": "code",
   "execution_count": 47,
   "outputs": [],
   "source": [
    "import pandas as pd\n",
    "import time\n",
    "from selenium import webdriver\n",
    "\n",
    "PATH = \"C:\\WebDriver\\chromedriver.exe\"\n",
    "driver = webdriver.Chrome(PATH)\n",
    "\n",
    "natixis_link = \"https://recrutement.natixis.com/fr/jobs/list?contractType=NA_INTERNSHIP&country=FR\"\n",
    "\n",
    "irrelevant_info = ['Référence : ','Date de publication : ','Entité : ','Pays : ','Ville : ','Type de contrat : ']"
   ],
   "metadata": {
    "collapsed": false,
    "pycharm": {
     "name": "#%%\n"
    }
   }
  },
  {
   "cell_type": "code",
   "execution_count": 48,
   "outputs": [],
   "source": [
    "#Ouverture du site et acceptation des cookies\n",
    "driver.get(natixis_link)\n",
    "if driver.find_element_by_id(\"cookieContents\"):\n",
    "    driver.find_element_by_xpath('''//*[@id=\"cookieContents\"]/div/div/span[3]''').click()\n",
    "time.sleep(1)\n",
    "driver.get(natixis_link)"
   ],
   "metadata": {
    "collapsed": false,
    "pycharm": {
     "name": "#%%\n"
    }
   }
  },
  {
   "cell_type": "code",
   "execution_count": 49,
   "outputs": [],
   "source": [
    "#Comptage du nombre de pages\n",
    "page = 1\n",
    "page_number = driver.find_element_by_class_name(\"pagination_custom_active\").text\n",
    "page_number = int(page_number.replace(\"{}/\".format(page),\"\"))"
   ],
   "metadata": {
    "collapsed": false,
    "pycharm": {
     "name": "#%%\n"
    }
   }
  },
  {
   "cell_type": "code",
   "execution_count": 50,
   "outputs": [
    {
     "data": {
      "text/plain": "'4890'"
     },
     "execution_count": 50,
     "metadata": {},
     "output_type": "execute_result"
    }
   ],
   "source": [
    "#Ici nous cherchons à savoir quel est l'id de la dernière offre qui a été enregistrée\n",
    "last_csv = pd.read_csv(\"natixis.csv\", index_col=[0])\n",
    "last_csv_id = last_csv.iat[0,0]\n",
    "last_csv_id"
   ],
   "metadata": {
    "collapsed": false,
    "pycharm": {
     "name": "#%%\n"
    }
   }
  },
  {
   "cell_type": "code",
   "execution_count": 51,
   "outputs": [],
   "source": [
    "#Ici on obtient le texte des offres. Ensuite, on nettoie les informations qui ne sont pas importantes en tenant compte du fait qu'il n'y aura pas toujours dix offres par page.\n",
    "texte = driver.find_element_by_id(\"job_list_results\").text\n",
    "texte = texte.splitlines()\n",
    "list_of_positions = texte.copy()\n",
    "x = 1\n",
    "nb_max_result = (len(texte)/2)+1\n",
    "while x < nb_max_result:\n",
    "    del list_of_positions[-x]\n",
    "    x += 1"
   ],
   "metadata": {
    "collapsed": false,
    "pycharm": {
     "name": "#%%\n"
    }
   }
  },
  {
   "cell_type": "code",
   "execution_count": 52,
   "outputs": [],
   "source": [
    "# Cette fonction permet d'ouvrir les différentes offres grâce au titre qui a été extrait avec la fonction ci-dessus. Ensuite elle extrait les informations pertinentes et en ajoute certaines comme le nom de la banque ainsi que le lien.\n",
    "def recherche_info(position):\n",
    "    driver.find_element_by_xpath('''//div[normalize-space(text()) = \"{0}\"]'''.format(position)).click()\n",
    "    position_info = driver.find_element_by_xpath('''//*[@id=\"job\"]/div[1]/div[1]''').text\n",
    "    for mot in irrelevant_info:\n",
    "        position_info = position_info.replace(mot,\"\")\n",
    "    position_info = list(position_info.split('\\n'))\n",
    "    if len(position_info) == 6:\n",
    "        del position_info[-1]\n",
    "    del position_info[-3:]\n",
    "    position_info.insert(2,\"Natixis\")\n",
    "    position_info.insert(3,position)\n",
    "    position_info.insert(4,driver.current_url)\n",
    "    # position_info = pd.DataFrame([position_info], columns=[\"relative_id\",\"date_added\",\"source\",\"title\",\"link\"])\n",
    "    # print(position_info)\n",
    "    # print(type(position_info))\n",
    "    return position_info"
   ],
   "metadata": {
    "collapsed": false,
    "pycharm": {
     "name": "#%%\n"
    }
   }
  },
  {
   "cell_type": "code",
   "execution_count": 53,
   "outputs": [],
   "source": [
    "# Création d'une liste qui accueillera les informations des nouvelles offres\n",
    "session_data = []\n",
    "\n",
    "# Recherche des informations dans la première page\n",
    "for position in list_of_positions:\n",
    "    position_info = recherche_info(position)\n",
    "    if position_info[0] == last_csv_id:\n",
    "        session_data = pd.DataFrame(session_data, columns=[\"relative_id\",\"date_added\",\"source\",\"title\",\"link\"])\n",
    "        natixis_data = pd.concat([session_data, last_csv])\n",
    "        natixis_data = natixis_data.reset_index()\n",
    "        del natixis_data[\"index\"]\n",
    "        natixis_data.to_csv(\"natixis.csv\", mode='w+')\n",
    "        natixis_data\n",
    "        break\n",
    "    session_data.append(position_info)\n",
    "    driver.back()"
   ],
   "metadata": {
    "collapsed": false,
    "pycharm": {
     "name": "#%%\n"
    }
   }
  },
  {
   "cell_type": "code",
   "execution_count": 54,
   "outputs": [
    {
     "name": "stderr",
     "output_type": "stream",
     "text": [
      "C:\\Users\\josemanuel\\AppData\\Local\\Temp\\ipykernel_8848\\94146985.py:27: FutureWarning: The frame.append method is deprecated and will be removed from pandas in a future version. Use pandas.concat instead.\n",
      "  session_data.append(position_info)\n"
     ]
    },
    {
     "ename": "NoSuchElementException",
     "evalue": "Message: no such element: Unable to locate element: {\"method\":\"xpath\",\"selector\":\"//div[normalize-space(text()) = \"Stage - 6 mois - PPI Juriste Assurance - H/F\"]\"}\n  (Session info: chrome=102.0.5005.115)\n",
     "output_type": "error",
     "traceback": [
      "\u001B[1;31m---------------------------------------------------------------------------\u001B[0m",
      "\u001B[1;31mNoSuchElementException\u001B[0m                    Traceback (most recent call last)",
      "Input \u001B[1;32mIn [54]\u001B[0m, in \u001B[0;36m<module>\u001B[1;34m\u001B[0m\n\u001B[0;32m     42\u001B[0m     x \u001B[38;5;241m+\u001B[39m\u001B[38;5;241m=\u001B[39m \u001B[38;5;241m1\u001B[39m\n\u001B[0;32m     43\u001B[0m \u001B[38;5;28;01mfor\u001B[39;00m position \u001B[38;5;129;01min\u001B[39;00m list_of_positions:\n\u001B[1;32m---> 44\u001B[0m     position_info \u001B[38;5;241m=\u001B[39m \u001B[43mrecherche_info\u001B[49m\u001B[43m(\u001B[49m\u001B[43mposition\u001B[49m\u001B[43m)\u001B[49m\n\u001B[0;32m     45\u001B[0m     \u001B[38;5;28;01mif\u001B[39;00m position_info[\u001B[38;5;241m0\u001B[39m] \u001B[38;5;241m==\u001B[39m last_csv_id:\n\u001B[0;32m     46\u001B[0m         session_data \u001B[38;5;241m=\u001B[39m pd\u001B[38;5;241m.\u001B[39mDataFrame(session_data, columns\u001B[38;5;241m=\u001B[39m[\u001B[38;5;124m\"\u001B[39m\u001B[38;5;124mrelative_id\u001B[39m\u001B[38;5;124m\"\u001B[39m,\u001B[38;5;124m\"\u001B[39m\u001B[38;5;124mdate_added\u001B[39m\u001B[38;5;124m\"\u001B[39m,\u001B[38;5;124m\"\u001B[39m\u001B[38;5;124msource\u001B[39m\u001B[38;5;124m\"\u001B[39m,\u001B[38;5;124m\"\u001B[39m\u001B[38;5;124mtitle\u001B[39m\u001B[38;5;124m\"\u001B[39m,\u001B[38;5;124m\"\u001B[39m\u001B[38;5;124mlink\u001B[39m\u001B[38;5;124m\"\u001B[39m])\n",
      "Input \u001B[1;32mIn [52]\u001B[0m, in \u001B[0;36mrecherche_info\u001B[1;34m(position)\u001B[0m\n\u001B[0;32m      2\u001B[0m \u001B[38;5;28;01mdef\u001B[39;00m \u001B[38;5;21mrecherche_info\u001B[39m(position):\n\u001B[1;32m----> 3\u001B[0m     \u001B[43mdriver\u001B[49m\u001B[38;5;241;43m.\u001B[39;49m\u001B[43mfind_element_by_xpath\u001B[49m\u001B[43m(\u001B[49m\u001B[38;5;124;43m'''\u001B[39;49m\u001B[38;5;124;43m//div[normalize-space(text()) = \u001B[39;49m\u001B[38;5;124;43m\"\u001B[39;49m\u001B[38;5;132;43;01m{0}\u001B[39;49;00m\u001B[38;5;124;43m\"\u001B[39;49m\u001B[38;5;124;43m]\u001B[39;49m\u001B[38;5;124;43m'''\u001B[39;49m\u001B[38;5;241;43m.\u001B[39;49m\u001B[43mformat\u001B[49m\u001B[43m(\u001B[49m\u001B[43mposition\u001B[49m\u001B[43m)\u001B[49m\u001B[43m)\u001B[49m\u001B[38;5;241m.\u001B[39mclick()\n\u001B[0;32m      4\u001B[0m     position_info \u001B[38;5;241m=\u001B[39m driver\u001B[38;5;241m.\u001B[39mfind_element_by_xpath(\u001B[38;5;124m'''\u001B[39m\u001B[38;5;124m//*[@id=\u001B[39m\u001B[38;5;124m\"\u001B[39m\u001B[38;5;124mjob\u001B[39m\u001B[38;5;124m\"\u001B[39m\u001B[38;5;124m]/div[1]/div[1]\u001B[39m\u001B[38;5;124m'''\u001B[39m)\u001B[38;5;241m.\u001B[39mtext\n\u001B[0;32m      5\u001B[0m     \u001B[38;5;28;01mfor\u001B[39;00m mot \u001B[38;5;129;01min\u001B[39;00m irrelevant_info:\n",
      "File \u001B[1;32mC:\\ProgramData\\Anaconda3\\lib\\site-packages\\selenium\\webdriver\\remote\\webdriver.py:394\u001B[0m, in \u001B[0;36mWebDriver.find_element_by_xpath\u001B[1;34m(self, xpath)\u001B[0m\n\u001B[0;32m    378\u001B[0m \u001B[38;5;28;01mdef\u001B[39;00m \u001B[38;5;21mfind_element_by_xpath\u001B[39m(\u001B[38;5;28mself\u001B[39m, xpath):\n\u001B[0;32m    379\u001B[0m     \u001B[38;5;124;03m\"\"\"\u001B[39;00m\n\u001B[0;32m    380\u001B[0m \u001B[38;5;124;03m    Finds an element by xpath.\u001B[39;00m\n\u001B[0;32m    381\u001B[0m \n\u001B[1;32m   (...)\u001B[0m\n\u001B[0;32m    392\u001B[0m \u001B[38;5;124;03m        element = driver.find_element_by_xpath('//div/td[1]')\u001B[39;00m\n\u001B[0;32m    393\u001B[0m \u001B[38;5;124;03m    \"\"\"\u001B[39;00m\n\u001B[1;32m--> 394\u001B[0m     \u001B[38;5;28;01mreturn\u001B[39;00m \u001B[38;5;28;43mself\u001B[39;49m\u001B[38;5;241;43m.\u001B[39;49m\u001B[43mfind_element\u001B[49m\u001B[43m(\u001B[49m\u001B[43mby\u001B[49m\u001B[38;5;241;43m=\u001B[39;49m\u001B[43mBy\u001B[49m\u001B[38;5;241;43m.\u001B[39;49m\u001B[43mXPATH\u001B[49m\u001B[43m,\u001B[49m\u001B[43m \u001B[49m\u001B[43mvalue\u001B[49m\u001B[38;5;241;43m=\u001B[39;49m\u001B[43mxpath\u001B[49m\u001B[43m)\u001B[49m\n",
      "File \u001B[1;32mC:\\ProgramData\\Anaconda3\\lib\\site-packages\\selenium\\webdriver\\remote\\webdriver.py:976\u001B[0m, in \u001B[0;36mWebDriver.find_element\u001B[1;34m(self, by, value)\u001B[0m\n\u001B[0;32m    974\u001B[0m         by \u001B[38;5;241m=\u001B[39m By\u001B[38;5;241m.\u001B[39mCSS_SELECTOR\n\u001B[0;32m    975\u001B[0m         value \u001B[38;5;241m=\u001B[39m \u001B[38;5;124m'\u001B[39m\u001B[38;5;124m[name=\u001B[39m\u001B[38;5;124m\"\u001B[39m\u001B[38;5;132;01m%s\u001B[39;00m\u001B[38;5;124m\"\u001B[39m\u001B[38;5;124m]\u001B[39m\u001B[38;5;124m'\u001B[39m \u001B[38;5;241m%\u001B[39m value\n\u001B[1;32m--> 976\u001B[0m \u001B[38;5;28;01mreturn\u001B[39;00m \u001B[38;5;28;43mself\u001B[39;49m\u001B[38;5;241;43m.\u001B[39;49m\u001B[43mexecute\u001B[49m\u001B[43m(\u001B[49m\u001B[43mCommand\u001B[49m\u001B[38;5;241;43m.\u001B[39;49m\u001B[43mFIND_ELEMENT\u001B[49m\u001B[43m,\u001B[49m\u001B[43m \u001B[49m\u001B[43m{\u001B[49m\n\u001B[0;32m    977\u001B[0m \u001B[43m    \u001B[49m\u001B[38;5;124;43m'\u001B[39;49m\u001B[38;5;124;43musing\u001B[39;49m\u001B[38;5;124;43m'\u001B[39;49m\u001B[43m:\u001B[49m\u001B[43m \u001B[49m\u001B[43mby\u001B[49m\u001B[43m,\u001B[49m\n\u001B[0;32m    978\u001B[0m \u001B[43m    \u001B[49m\u001B[38;5;124;43m'\u001B[39;49m\u001B[38;5;124;43mvalue\u001B[39;49m\u001B[38;5;124;43m'\u001B[39;49m\u001B[43m:\u001B[49m\u001B[43m \u001B[49m\u001B[43mvalue\u001B[49m\u001B[43m}\u001B[49m\u001B[43m)\u001B[49m[\u001B[38;5;124m'\u001B[39m\u001B[38;5;124mvalue\u001B[39m\u001B[38;5;124m'\u001B[39m]\n",
      "File \u001B[1;32mC:\\ProgramData\\Anaconda3\\lib\\site-packages\\selenium\\webdriver\\remote\\webdriver.py:321\u001B[0m, in \u001B[0;36mWebDriver.execute\u001B[1;34m(self, driver_command, params)\u001B[0m\n\u001B[0;32m    319\u001B[0m response \u001B[38;5;241m=\u001B[39m \u001B[38;5;28mself\u001B[39m\u001B[38;5;241m.\u001B[39mcommand_executor\u001B[38;5;241m.\u001B[39mexecute(driver_command, params)\n\u001B[0;32m    320\u001B[0m \u001B[38;5;28;01mif\u001B[39;00m response:\n\u001B[1;32m--> 321\u001B[0m     \u001B[38;5;28;43mself\u001B[39;49m\u001B[38;5;241;43m.\u001B[39;49m\u001B[43merror_handler\u001B[49m\u001B[38;5;241;43m.\u001B[39;49m\u001B[43mcheck_response\u001B[49m\u001B[43m(\u001B[49m\u001B[43mresponse\u001B[49m\u001B[43m)\u001B[49m\n\u001B[0;32m    322\u001B[0m     response[\u001B[38;5;124m'\u001B[39m\u001B[38;5;124mvalue\u001B[39m\u001B[38;5;124m'\u001B[39m] \u001B[38;5;241m=\u001B[39m \u001B[38;5;28mself\u001B[39m\u001B[38;5;241m.\u001B[39m_unwrap_value(\n\u001B[0;32m    323\u001B[0m         response\u001B[38;5;241m.\u001B[39mget(\u001B[38;5;124m'\u001B[39m\u001B[38;5;124mvalue\u001B[39m\u001B[38;5;124m'\u001B[39m, \u001B[38;5;28;01mNone\u001B[39;00m))\n\u001B[0;32m    324\u001B[0m     \u001B[38;5;28;01mreturn\u001B[39;00m response\n",
      "File \u001B[1;32mC:\\ProgramData\\Anaconda3\\lib\\site-packages\\selenium\\webdriver\\remote\\errorhandler.py:242\u001B[0m, in \u001B[0;36mErrorHandler.check_response\u001B[1;34m(self, response)\u001B[0m\n\u001B[0;32m    240\u001B[0m         alert_text \u001B[38;5;241m=\u001B[39m value[\u001B[38;5;124m'\u001B[39m\u001B[38;5;124malert\u001B[39m\u001B[38;5;124m'\u001B[39m]\u001B[38;5;241m.\u001B[39mget(\u001B[38;5;124m'\u001B[39m\u001B[38;5;124mtext\u001B[39m\u001B[38;5;124m'\u001B[39m)\n\u001B[0;32m    241\u001B[0m     \u001B[38;5;28;01mraise\u001B[39;00m exception_class(message, screen, stacktrace, alert_text)\n\u001B[1;32m--> 242\u001B[0m \u001B[38;5;28;01mraise\u001B[39;00m exception_class(message, screen, stacktrace)\n",
      "\u001B[1;31mNoSuchElementException\u001B[0m: Message: no such element: Unable to locate element: {\"method\":\"xpath\",\"selector\":\"//div[normalize-space(text()) = \"Stage - 6 mois - PPI Juriste Assurance - H/F\"]\"}\n  (Session info: chrome=102.0.5005.115)\n"
     ]
    }
   ],
   "source": [
    "\n",
    "# Rechercher des informations des pages suivantes jusqu'à la pénultième\n",
    "\n",
    "page += 1\n",
    "next_link = \"https://recrutement.natixis.com/fr/jobs/list?country=FR&contractType=NA_INTERNSHIP&page={}\".format(page)\n",
    "\n",
    "while page < page_number:\n",
    "    driver.get(next_link)\n",
    "    texte = driver.find_element_by_id(\"job_list_results\").text\n",
    "    texte = texte.splitlines()\n",
    "    list_of_positions = texte.copy()\n",
    "    x = 1\n",
    "    nb_max_result = (len(texte)/2)+1\n",
    "    while x < nb_max_result:\n",
    "        del list_of_positions[-x]\n",
    "        x += 1\n",
    "\n",
    "    for position in list_of_positions:\n",
    "        position_info = recherche_info(position)\n",
    "        if position_info[0] == last_csv_id:\n",
    "            session_data = pd.DataFrame(session_data, columns=[\"relative_id\",\"date_added\",\"source\",\"title\",\"link\"])\n",
    "            natixis_data = pd.concat([session_data, last_csv])\n",
    "            natixis_data = natixis_data.reset_index()\n",
    "            del session_data[\"index\"]\n",
    "            natixis_data.to_csv(\"natixis.csv\", mode='w+')\n",
    "            natixis_data\n",
    "            break\n",
    "        session_data.append(position_info)\n",
    "        driver.back()\n",
    "    page +=1\n",
    "    next_link = \"https://recrutement.natixis.com/fr/jobs/list?country=FR&contractType=NA_INTERNSHIP&page={}\".format(page)\n",
    "\n",
    "#Ici on s'occupe de la dernière feuille\n",
    "if page == page_number:\n",
    "    driver.get(next_link)\n",
    "    texte_integral_resultats_page_suivante = driver.find_element_by_id(\"job_list_results\").text\n",
    "    texte_integral_resultats_page_suivante = texte_integral_resultats_page_suivante.splitlines()\n",
    "    titres_offres_page_suivante = texte_integral_resultats_page_suivante.copy()\n",
    "    x = 1\n",
    "    max = (len(texte_integral_resultats_page_suivante)/2)+1\n",
    "    while x < max:\n",
    "        del titres_offres_page_suivante[-x]\n",
    "        x += 1\n",
    "    for position in list_of_positions:\n",
    "        position_info = recherche_info(position)\n",
    "        if position_info[0] == last_csv_id:\n",
    "            session_data = pd.DataFrame(session_data, columns=[\"relative_id\",\"date_added\",\"source\",\"title\",\"link\"])\n",
    "            natixis_data = pd.concat([session_data, last_csv])\n",
    "            natixis_data = natixis_data.reset_index()\n",
    "            del natixis_data[\"index\"]\n",
    "            natixis_data.to_csv(\"natixis.csv\", mode='w+')\n",
    "            natixis_data\n",
    "            break\n",
    "        session_data.append(position_info)\n",
    "        driver.back()"
   ],
   "metadata": {
    "collapsed": false,
    "pycharm": {
     "name": "#%%\n"
    }
   }
  },
  {
   "cell_type": "code",
   "execution_count": null,
   "outputs": [],
   "source": [],
   "metadata": {
    "collapsed": false,
    "pycharm": {
     "name": "#%%\n"
    }
   }
  }
 ],
 "metadata": {
  "kernelspec": {
   "display_name": "Python 3",
   "language": "python",
   "name": "python3"
  },
  "language_info": {
   "codemirror_mode": {
    "name": "ipython",
    "version": 2
   },
   "file_extension": ".py",
   "mimetype": "text/x-python",
   "name": "python",
   "nbconvert_exporter": "python",
   "pygments_lexer": "ipython2",
   "version": "2.7.6"
  }
 },
 "nbformat": 4,
 "nbformat_minor": 0
}

{
 "cells": [
  {
   "cell_type": "code",
   "execution_count": null,
   "metadata": {
    "collapsed": true,
    "pycharm": {
     "name": "#%%\n"
    }
   },
   "outputs": [],
   "source": [
    "import pandas as pd\n",
    "import time\n",
    "from selenium import webdriver\n",
    "\n",
    "PATH = \"C:\\WebDriver\\chromedriver.exe\"\n",
    "driver = webdriver.Chrome(PATH)\n",
    "\n",
    "natixis_link = \"https://recrutement.natixis.com/fr/jobs/list?contractType=NA_INTERNSHIP&country=FR\"\n",
    "\n",
    "irrelevant_info = ['Référence : ','Date de publication : ','Entité : ','Pays : ','Ville : ','Type de contrat : ']"
   ]
  },
  {
   "cell_type": "code",
   "execution_count": null,
   "outputs": [],
   "source": [
    "#Ouverture du site et acceptation des cookies\n",
    "driver.get(natixis_link)\n",
    "if driver.find_element_by_id(\"cookieContents\"):\n",
    "    driver.find_element_by_xpath('''//*[@id=\"cookieContents\"]/div/div/span[3]''').click()\n",
    "time.sleep(1)\n",
    "driver.get(natixis_link)"
   ],
   "metadata": {
    "collapsed": false,
    "pycharm": {
     "name": "#%%\n"
    }
   }
  },
  {
   "cell_type": "code",
   "execution_count": null,
   "outputs": [],
   "source": [
    "#Comptage du nombre de pages\n",
    "page = 1\n",
    "page_number = driver.find_element_by_class_name(\"pagination_custom_active\").text\n",
    "page_number = int(page_number.replace(\"{}/\".format(page),\"\"))"
   ],
   "metadata": {
    "collapsed": false,
    "pycharm": {
     "name": "#%%\n"
    }
   }
  },
  {
   "cell_type": "code",
   "execution_count": null,
   "outputs": [],
   "source": [
    "#Ici nous cherchons à savoir quel est l'id de la dernière offre qui a été enregistrée\n",
    "last_csv = pd.read_csv(\"natixis.csv\", index_col=[0])\n",
    "last_csv_id = last_csv.iat[0,0]"
   ],
   "metadata": {
    "collapsed": false,
    "pycharm": {
     "name": "#%%\n"
    }
   }
  },
  {
   "cell_type": "code",
   "execution_count": null,
   "outputs": [],
   "source": [
    "#Ici on obtient le texte des offres. Ensuite, on nettoie les informations qui ne sont pas importantes en tenant compte du fait qu'il n'y aura pas toujours dix offres par page.\n",
    "texte = driver.find_element_by_id(\"job_list_results\").text\n",
    "texte = texte.splitlines()\n",
    "list_of_positions = texte.copy()\n",
    "x = 1\n",
    "nb_max_result = (len(texte)/2)+1\n",
    "while x < nb_max_result:\n",
    "    del list_of_positions[-x]\n",
    "    x += 1"
   ],
   "metadata": {
    "collapsed": false,
    "pycharm": {
     "name": "#%%\n"
    }
   }
  },
  {
   "cell_type": "code",
   "execution_count": null,
   "outputs": [],
   "source": [
    "# Cette fonction permet d'ouvrir les différentes offres grâce au titre qui a été extrait avec la fonction ci-dessus. Ensuite elle extrait les informations pertinentes et en ajoute certaines comme le nom de la banque ainsi que le lien.\n",
    "def recherche_info(position):\n",
    "    driver.find_element_by_xpath('''//div[normalize-space(text()) = \"{0}\"]'''.format(position)).click()\n",
    "    position_info = driver.find_element_by_xpath('''//*[@id=\"job\"]/div[1]/div[1]''').text\n",
    "    for mot in irrelevant_info:\n",
    "        position_info = position_info.replace(mot,\"\")\n",
    "    position_info = list(position_info.split('\\n'))\n",
    "    if len(position_info) == 6:\n",
    "        del position_info[-1]\n",
    "    del position_info[-3:]\n",
    "    position_info.insert(2,\"Natixis\")\n",
    "    position_info.insert(3,position)\n",
    "    position_info.insert(4,driver.current_url)\n",
    "    # position_info = pd.DataFrame([position_info], columns=[\"relative_id\",\"date_added\",\"source\",\"title\",\"link\"])\n",
    "    # print(position_info)\n",
    "    # print(type(position_info))\n",
    "    return position_info"
   ],
   "metadata": {
    "collapsed": false,
    "pycharm": {
     "name": "#%%\n"
    }
   }
  },
  {
   "cell_type": "code",
   "execution_count": null,
   "outputs": [],
   "source": [
    "# Création d'une liste qui accueillera les informations des nouvelles offres\n",
    "session_data = []\n",
    "\n",
    "# Recherche des informations dans la première page\n",
    "for position in list_of_positions:\n",
    "    position_info = recherche_info(position)\n",
    "    if position_info[0] == last_csv_id:\n",
    "        session_data = pd.DataFrame(session_data, columns=[\"relative_id\",\"date_added\",\"source\",\"title\",\"link\"])\n",
    "        natixis_data = pd.concat([session_data, last_csv])\n",
    "        natixis_data = natixis_data.reset_index()\n",
    "        del natixis_data[\"index\"]\n",
    "        natixis_data.to_csv(\"natixis.csv\", mode='w+')\n",
    "        natixis_data\n",
    "        break\n",
    "    session_data.append(position_info)\n",
    "    driver.back()"
   ],
   "metadata": {
    "collapsed": false,
    "pycharm": {
     "name": "#%%\n"
    }
   }
  },
  {
   "cell_type": "code",
   "execution_count": null,
   "outputs": [],
   "source": [
    "\n",
    "# Rechercher des informations des pages suivantes jusqu'à la pénultième\n",
    "\n",
    "page += 1\n",
    "next_link = \"https://recrutement.natixis.com/fr/jobs/list?country=FR&contractType=NA_INTERNSHIP&page={}\".format(page)\n",
    "\n",
    "while page < page_number:\n",
    "    driver.get(next_link)\n",
    "    texte = driver.find_element_by_id(\"job_list_results\").text\n",
    "    texte = texte.splitlines()\n",
    "    list_of_positions = texte.copy()\n",
    "    x = 1\n",
    "    nb_max_result = (len(texte)/2)+1\n",
    "    while x < nb_max_result:\n",
    "        del list_of_positions[-x]\n",
    "        x += 1\n",
    "\n",
    "    for position in list_of_positions:\n",
    "        position_info = recherche_info(position)\n",
    "        if position_info[0] == last_csv_id:\n",
    "            session_data = pd.DataFrame(session_data, columns=[\"relative_id\",\"date_added\",\"source\",\"title\",\"link\"])\n",
    "            natixis_data = pd.concat([session_data, last_csv])\n",
    "            natixis_data = natixis_data.reset_index()\n",
    "            del session_data[\"index\"]\n",
    "            natixis_data.to_csv(\"natixis.csv\", mode='w+')\n",
    "            natixis_data\n",
    "            break\n",
    "        session_data.append(position_info)\n",
    "        driver.back()\n",
    "    page +=1\n",
    "    next_link = \"https://recrutement.natixis.com/fr/jobs/list?country=FR&contractType=NA_INTERNSHIP&page={}\".format(page)\n",
    "\n",
    "#Ici on s'occupe de la dernière feuille\n",
    "if page == page_number:\n",
    "    driver.get(next_link)\n",
    "    texte = driver.find_element_by_id(\"job_list_results\").text\n",
    "    texte = texte.splitlines()\n",
    "    list_of_positions = texte.copy()\n",
    "    x = 1\n",
    "    nb_max_result = (len(texte)/2)+1\n",
    "    while x < nb_max_result:\n",
    "        del list_of_positions[-x]\n",
    "        x += 1\n",
    "\n",
    "    for position in list_of_positions:\n",
    "        position_info = recherche_info(position)\n",
    "        if position_info[0] == last_csv_id:\n",
    "            session_data = pd.DataFrame(session_data, columns=[\"relative_id\",\"date_added\",\"source\",\"title\",\"link\"])\n",
    "            natixis_data = pd.concat([session_data, last_csv])\n",
    "            natixis_data = natixis_data.reset_index()\n",
    "            del natixis_data[\"index\"]\n",
    "            natixis_data.to_csv(\"natixis.csv\", mode='w+')\n",
    "            natixis_data\n",
    "            break\n",
    "        session_data.append(position_info)\n",
    "        driver.back()"
   ],
   "metadata": {
    "collapsed": false,
    "pycharm": {
     "name": "#%%\n"
    }
   }
  }
 ],
 "metadata": {
  "kernelspec": {
   "display_name": "Python 3",
   "language": "python",
   "name": "python3"
  },
  "language_info": {
   "codemirror_mode": {
    "name": "ipython",
    "version": 2
   },
   "file_extension": ".py",
   "mimetype": "text/x-python",
   "name": "python",
   "nbconvert_exporter": "python",
   "pygments_lexer": "ipython2",
   "version": "2.7.6"
  }
 },
 "nbformat": 4,
 "nbformat_minor": 0
}
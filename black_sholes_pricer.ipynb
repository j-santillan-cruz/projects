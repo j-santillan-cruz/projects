{
 "cells": [
  {
   "cell_type": "markdown",
   "source": [
    "# Black Scholes pricer"
   ],
   "metadata": {
    "collapsed": false,
    "pycharm": {
     "name": "#%% md\n"
    }
   }
  },
  {
   "cell_type": "markdown",
   "source": [
    "###### Stock price\n",
    "###### Strike price\n",
    "###### Time to maturity\n",
    "###### Volatility\n",
    "###### Risk free asset rate"
   ],
   "metadata": {
    "collapsed": false,
    "pycharm": {
     "name": "#%% md\n"
    }
   }
  },
  {
   "cell_type": "markdown",
   "source": [
    "#### Necessary"
   ],
   "metadata": {
    "collapsed": false,
    "pycharm": {
     "name": "#%% md\n"
    }
   }
  },
  {
   "cell_type": "code",
   "execution_count": 16,
   "outputs": [],
   "source": [
    "def division(a,b):\n",
    "    return  a/b"
   ],
   "metadata": {
    "collapsed": false,
    "pycharm": {
     "name": "#%%\n"
    }
   }
  },
  {
   "cell_type": "markdown",
   "source": [
    "##### Option type"
   ],
   "metadata": {
    "collapsed": false,
    "pycharm": {
     "name": "#%% md\n"
    }
   }
  },
  {
   "cell_type": "code",
   "execution_count": 17,
   "outputs": [],
   "source": [
    "option_type = input(\"What option are you trying to price ? \")\n",
    "option_type = option_type.lower()\n",
    "while option_type not in [\"call\", \"put\"]:\n",
    "    option_type = input(\"Sorry the option type you asked for is not supported, please try again. What option are you trying to price ? \")"
   ],
   "metadata": {
    "collapsed": false,
    "pycharm": {
     "name": "#%%\n"
    }
   }
  },
  {
   "cell_type": "markdown",
   "source": [
    "##### Stock price"
   ],
   "metadata": {
    "collapsed": false,
    "pycharm": {
     "name": "#%% md\n"
    }
   }
  },
  {
   "cell_type": "code",
   "execution_count": null,
   "outputs": [],
   "source": [
    "stock_price = input(\"What is the current stock price of the underlying asset ? : \")\n",
    "while True:\n",
    "    try:\n",
    "        stock_price = float(stock_price)\n",
    "        break\n",
    "    except ValueError:\n",
    "        stock_price = input(\"Sorry, the stock price you entered is not an float, please try again. What is the current stock price of the underlying asset ? : \")"
   ],
   "metadata": {
    "collapsed": false,
    "pycharm": {
     "name": "#%%\n"
    }
   }
  },
  {
   "cell_type": "markdown",
   "source": [
    "#### Stike price"
   ],
   "metadata": {
    "collapsed": false,
    "pycharm": {
     "name": "#%% md\n"
    }
   }
  },
  {
   "cell_type": "code",
   "execution_count": null,
   "outputs": [],
   "source": [
    "strike_price = input(\"What is the current stock price of the underlying asset ? : \")\n",
    "while True:\n",
    "    try:\n",
    "        strike_price = float(strike_price)\n",
    "        break\n",
    "    except ValueError:\n",
    "        strike_price = input(\"Sorry, the strike price you entered is not an float, please try again. What is the strike price for the\" + option_type + \"you want ? :\")\n"
   ],
   "metadata": {
    "collapsed": false,
    "pycharm": {
     "name": "#%%\n"
    }
   }
  },
  {
   "cell_type": "markdown",
   "source": [
    "##### Volatility"
   ],
   "metadata": {
    "collapsed": false,
    "pycharm": {
     "name": "#%% md\n"
    }
   }
  },
  {
   "cell_type": "code",
   "execution_count": 68,
   "outputs": [
    {
     "name": "stdout",
     "output_type": "stream",
     "text": [
      "Warning: The average volatility is around 15%. You entered a value higher than 50%.\n"
     ]
    }
   ],
   "source": [
    "volatility = input(\"What is the volatility of the underlying asset ?  (Please enter a value in percentage) \")\n",
    "\n",
    "while True:\n",
    "    try:\n",
    "        volatility = float(volatility)\n",
    "        if volatility < 0:\n",
    "            volatility = float(input(\"Sorry, but the volatility of a stock cannot be negative. Please try again, what is the volatility of the underlying asset ?  (Please enter a value in percentage) \"))\n",
    "        elif volatility > 50:\n",
    "            print(\"Warning: The average volatility is around 15%. You entered a value higher than 50%.\")\n",
    "            break\n",
    "        else:\n",
    "            break\n",
    "    except ValueError:\n",
    "        volatility = input(\"Sorry, the volatility you entered is not a valid number. Please try again, what is the volatility of the underlying asset ?  (Please enter a value in percentage) \")\n",
    "\n",
    "volatility = division(volatility,100)"
   ],
   "metadata": {
    "collapsed": false,
    "pycharm": {
     "name": "#%%\n"
    }
   }
  },
  {
   "cell_type": "markdown",
   "source": [
    "##### Risk free rate"
   ],
   "metadata": {
    "collapsed": false,
    "pycharm": {
     "name": "#%% md\n"
    }
   }
  },
  {
   "cell_type": "code",
   "execution_count": 3,
   "outputs": [],
   "source": [
    "awnser = input(\"Sorry but you did not awnser by 'Yes' or 'No'\n",
    "               Please provide with an awnser\")"
   ],
   "metadata": {
    "collapsed": false,
    "pycharm": {
     "name": "#%%\n"
    }
   }
  },
  {
   "cell_type": "code",
   "execution_count": null,
   "outputs": [],
   "source": [
    "risk_free_rate = input(\"What is the risk-free rate in the economy? (Please enter a value in percentage): \")\n",
    "\n",
    "while True:\n",
    "    try:\n",
    "        risk_free_rate = float(risk_free_rate)\n",
    "        if risk_free_rate < 0:\n",
    "            risk_free_rate = float(input(\"Sorry, but the risk-free rate in the economy cannot be negative in the Black-Scholes model. Please try again, what is the risk-free rate in the economy? (Please enter a value in percentage): \"))\n",
    "        elif risk_free_rate > 10:\n",
    "            answer = input(\"Warning: This is not Argentina, the risk-free rate is usually below 10%. Do you want to change? (Please answer 'Yes' or 'No'): \")\n",
    "            answer = answer.lower()\n",
    "            while answer not in [\"yes\", \"no\"]:\n",
    "                answer = input(\"Sorry, but you did not answer 'Yes' or 'No'. Please provide an answer: \")\n",
    "            if answer == \"yes\":\n",
    "                new_risk_free_rate = input(\"What is your new risk-free rate in the economy? (Please enter a value in percentage): \")\n",
    "                while True:\n",
    "                    try:\n",
    "                        new_risk_free_rate = float(new_risk_free_rate)\n",
    "                        if new_risk_free_rate < 0:\n",
    "                            new_risk_free_rate = float(input(\"Sorry, but the new risk-free rate cannot be negative. Please try again: \"))\n",
    "                        else:\n",
    "                            risk_free_rate = new_risk_free_rate\n",
    "                            break\n",
    "                    except ValueError:\n",
    "                        new_risk_free_rate = input(\"Sorry, the value you entered is not a valid number. Please try again: \")\n",
    "            else:\n",
    "                break\n",
    "        else:\n",
    "            break\n",
    "    except ValueError:\n",
    "        risk_free_rate = input(\"Sorry, the rate you entered is not a valid number. Please try again: \")\n",
    "\n",
    "risk_free_rate = risk_free_rate / 100  # Assuming division is intended here\n"
   ],
   "metadata": {
    "collapsed": false,
    "pycharm": {
     "name": "#%%\n"
    }
   }
  },
  {
   "cell_type": "markdown",
   "source": [
    "##### Summarize inputs"
   ],
   "metadata": {
    "collapsed": false,
    "pycharm": {
     "name": "#%% md\n"
    }
   }
  },
  {
   "cell_type": "code",
   "execution_count": 61,
   "outputs": [
    {
     "name": "stdout",
     "output_type": "stream",
     "text": [
      "You asked for a put option price\n",
      "The current stock price is 4.0$\n",
      "The strike price of your put is 4.0$\n",
      "The volatility of your underlying asset is 5.0%\n"
     ]
    }
   ],
   "source": [
    "print(\"You asked for a \" + option_type + \" option price\")\n",
    "print(\"The current stock price is \" + str(stock_price) + \"$\")\n",
    "print(\"The strike price of your \" + option_type + \" is \" + str(strike_price) + \"$\")\n",
    "print(\"The volatility of your underlying asset is \" + str(volatility*100) + \"%\")"
   ],
   "metadata": {
    "collapsed": false,
    "pycharm": {
     "name": "#%%\n"
    }
   }
  },
  {
   "cell_type": "code",
   "execution_count": 67,
   "outputs": [
    {
     "data": {
      "text/plain": "0.05"
     },
     "execution_count": 67,
     "metadata": {},
     "output_type": "execute_result"
    }
   ],
   "source": [
    "volatility"
   ],
   "metadata": {
    "collapsed": false,
    "pycharm": {
     "name": "#%%\n"
    }
   }
  },
  {
   "cell_type": "code",
   "execution_count": 56,
   "outputs": [
    {
     "name": "stdout",
     "output_type": "stream",
     "text": [
      "The volatility of your underlying asset is 3.0%\n"
     ]
    }
   ],
   "source": [
    "\n",
    "\n"
   ],
   "metadata": {
    "collapsed": false,
    "pycharm": {
     "name": "#%%\n"
    }
   }
  },
  {
   "cell_type": "code",
   "execution_count": null,
   "outputs": [],
   "source": [],
   "metadata": {
    "collapsed": false,
    "pycharm": {
     "name": "#%%\n"
    }
   }
  }
 ],
 "metadata": {
  "kernelspec": {
   "display_name": "Python 3",
   "language": "python",
   "name": "python3"
  },
  "language_info": {
   "codemirror_mode": {
    "name": "ipython",
    "version": 2
   },
   "file_extension": ".py",
   "mimetype": "text/x-python",
   "name": "python",
   "nbconvert_exporter": "python",
   "pygments_lexer": "ipython2",
   "version": "2.7.6"
  }
 },
 "nbformat": 4,
 "nbformat_minor": 0
}